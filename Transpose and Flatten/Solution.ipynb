import numpy as np
import ast,sys
str=sys.stdin.read()
l=[]
for a in str.split('\n'):
    l.append(a.split(' '))
a=len(l)
b=l[0]
c=l[1:]
d=[]
for i in c:
    d.append(list(map(int,i)))
#Convert the List to Array
arr=np.array(d)
#Get the transpose of the Array
arr2=np.transpose(arr)
print(arr2)
#Flatten the array
b=arr.flatten()
print(b)




        

