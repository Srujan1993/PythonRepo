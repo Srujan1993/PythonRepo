import numpy as np
import ast,sys
str=sys.stdin.read()
l=[]
for a in str.split('\n'):
    l.append(a.split(' '))
a=l[0]
b=l[1:]
c=[]
for i in b:
    c.append(list(map(int,i)))
print(np.array(c))